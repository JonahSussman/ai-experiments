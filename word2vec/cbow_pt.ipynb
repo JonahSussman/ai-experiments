{
 "cells": [
  {
   "cell_type": "code",
   "execution_count": 1,
   "metadata": {},
   "outputs": [
    {
     "name": "stderr",
     "output_type": "stream",
     "text": [
      "/home/jonah/Projects/github.com/JonahSussman/ai-experiments/word2vec/.venv-word2vec/lib64/python3.12/site-packages/tqdm/auto.py:21: TqdmWarning: IProgress not found. Please update jupyter and ipywidgets. See https://ipywidgets.readthedocs.io/en/stable/user_install.html\n",
      "  from .autonotebook import tqdm as notebook_tqdm\n"
     ]
    }
   ],
   "source": [
    "import json\n",
    "from typing import cast\n",
    "import torch\n",
    "import torch.nn as nn\n",
    "import torch.optim as optim\n",
    "import numpy as np\n",
    "import matplotlib.pyplot as plt\n",
    "from sklearn.decomposition import PCA\n",
    "from transformers import AutoTokenizer\n",
    "from pprint import pprint"
   ]
  },
  {
   "cell_type": "code",
   "execution_count": 2,
   "metadata": {},
   "outputs": [],
   "source": [
    "PAGES = json.load(open(\"../10k-vital-articles/data/pages.json\"))\n",
    "TOKENIZER = AutoTokenizer.from_pretrained(\"gpt2\")"
   ]
  },
  {
   "cell_type": "code",
   "execution_count": 7,
   "metadata": {},
   "outputs": [
    {
     "name": "stderr",
     "output_type": "stream",
     "text": [
      "Token indices sequence length is longer than the specified maximum sequence length for this model (1374 > 1024). Running this sequence through the model will result in indexing errors\n"
     ]
    },
    {
     "name": "stdout",
     "output_type": "stream",
     "text": [
      "After converting our words in the corpus into vector of integers:\n",
      "[[27007, 16438, 6764, 91, 35443, 8876, 290, 3356, 11709, 198, 27007, 6395, 3544, 91, 2025, 9282, 91, 2025, 998, 1042, 357, 6381, 4131, 328, 2288, 14726, 2025, 998, 396, 357, 6381, 4131, 328, 2288, 8, 11709, 198, 27007, 10248, 2708, 11709, 198, 27007, 47, 79, 12, 325, 11632, 12, 521, 891, 11709, 198, 27007, 11041, 3517, 3594, 91, 4475, 28, 17908, 33448, 11709, 198, 27007, 11041, 288, 1820, 9667, 91, 4475, 28, 18517, 48609, 11709, 198, 27007, 11041, 34464, 2366, 17815, 91, 4475, 28, 6747, 1160, 1954, 11709, 198, 27007, 2025, 998, 1042, 40217, 11709, 198, 198, 7061, 6, 2025, 998, 1042, 7061, 6, 318, 257, 16410, 23149, 8876, 11907, 290, 16410, 35443, 3356, 91, 21084, 434, 11907, 326, 12932, 284, 35531, 477, 6712, 326, 43874, 16410, 9800, 414, 60, 4357, 32000, 11, 393, 16410, 20636, 18911, 91, 71, 959, 9282, 60, 4357, 7525, 10822, 262, 16410, 5219, 357, 16104, 414, 14726, 5219, 11907, 290, 16410, 27544, 1042, 60, 4083, 27, 5420, 29, 27007, 34, 3780, 930, 12957, 28, 37, 498, 64, 930, 11085, 28, 20508, 930, 7839, 28, 2025, 998, 1042, 930, 4475, 28, 1238, 2481, 930, 1818, 28, 464, 13863, 36732, 286, 26099, 930, 35352, 12, 12957, 28, 57, 2501, 64, 930, 35352, 12, 11085, 28, 43982, 399, 13, 930, 6371, 28, 5450, 1378, 489, 5549, 13, 14192, 3841, 13, 15532, 14, 298, 1678, 14, 272, 998, 1042, 14, 930, 15526, 12, 4475, 28, 1238, 1495, 12, 2999, 12, 1954, 930, 28736, 28, 35376, 33448, 930, 12984, 8191, 28, 9171, 6570, 23154, 4992, 3498, 11, 13863, 2059, 11709, 3556, 5420, 29, 32229, 1042, 11009, 329, 262, 9014, 286, 262, 1181, 351, 16410, 9012, 1203, 3592, 91, 5219, 1203, 14515, 11907, 290, 16171, 16410, 11146, 8112, 357, 10709, 1042, 290, 41661, 14726, 5787, 15814, 60, 4083, 317, 15074, 1364, 12, 5469, 3356, 11, 41661, 318, 3221, 3417, 355, 262, 16410, 33203, 14012, 11907, 8539, 286, 262, 16410, 14557, 396, 3356, 11907, 29565, 58, 33203, 14012, 19803, 11907, 737, 198, 198, 7003, 20675, 286, 26177, 4213, 389, 1043, 477, 3690, 2106, 11, 3660, 41661, 9349, 422, 262, 16410, 23396, 286, 39057, 91, 4834, 2971, 23242, 60, 4083, 5856, 262, 6846, 2063, 286, 262, 678, 400, 290, 262, 717, 4647, 286, 262, 1160, 400, 4289, 11, 262, 26177, 3356, 45671, 287, 749, 3354, 286, 262, 995, 290, 550, 257, 2383, 2597, 287, 16410, 32475, 3356, 91, 22896, 6, 12766, 11907, 329, 16410, 368, 1192, 25857, 60, 4083, 16410, 2, 26130, 82, 286, 1807, 91, 40009, 26177, 4266, 286, 1807, 11907, 7042, 1141, 428, 2278, 13, 32229, 1023, 423, 2077, 636, 287, 16410, 8053, 286, 37888, 290, 17203, 507, 91, 28116, 282, 37888, 60, 4357, 749, 14660, 287, 262, 16410, 40313, 1520, 1726, 60, 4357, 262, 16410, 16220, 7511, 1810, 11907, 290, 262, 16410, 43584, 7511, 1810, 60, 4357, 3025, 886, 7498, 262, 886, 286, 262, 16410, 4871, 605, 6980, 286, 41661, 60, 4083, 554, 262, 938, 4647, 286, 262, 1160, 400, 290, 656, 262, 2310, 301, 4289, 11, 262, 26177, 3356, 468, 587, 33316, 298, 1752, 517, 11, 3957, 287, 11533, 290, 4588, 1626, 16410, 17096, 12, 49970, 60, 4357, 16410, 17096, 12, 5767, 11907, 290, 16410, 17096, 12, 20541, 5612, 11907, 8650, 13, 198, 198, 2025, 998, 1023, 1873, 16410, 67, 1608, 286, 10815, 91, 67, 3997, 10581, 60, 4357, 543, 743, 307, 4143, 9086, 656, 16410, 32243, 560, 11907, 290, 16410, 1990, 2122, 560, 10064, 60, 11208, 612, 318, 2383, 21721, 1022, 262, 734, 13, 15815, 560, 5050, 1949, 284, 29308, 644, 281, 26177, 3592, 1244, 307, 588, 11, 475, 12253, 10815, 11, 543, 423, 15074, 2077, 257, 16410, 33894, 298, 25571, 91, 24498, 11907, 1210, 11, 4031, 284, 25525, 4934, 290, 262, 1181, 13, 4650, 44497, 286, 16410, 32610, 1634, 91, 10734, 14355, 11907, 423, 587, 12824, 416, 26177, 4583, 11, 19976, 11, 290, 16410, 47, 32040, 271, 357, 14681, 14726, 79, 32040, 271, 60, 4083, 198, 27007, 51, 420, 4179, 91, 18, 11709], [27007, 16438, 6764, 91, 29665, 952, 286, 703, 881, 1657, 318, 12548, 736, 422, 257, 1767, 11709, 198, 27007, 6395, 3544, 11709, 198, 27007, 11041, 288, 1820, 9667, 91, 4475, 28, 17543, 13130, 11709, 198, 30109, 8979, 25, 13719, 1044, 62, 2348, 3077, 78, 62, 19400, 13, 11134, 91, 400, 2178, 91, 2348, 3077, 78, 1487, 287, 16410, 13719, 1044, 60, 5974, 262, 3975, 2523, 262, 3580, 1022, 262, 2033, 286, 19606, 16410, 13719, 1044, 11907, 12548, 287, 262, 3931, 286, 2813, 9051, 262, 2811, 1411, 340, 12548, 1022, 4751, 290, 4793, 13, 2773, 3006, 4079, 1969, 284, 1160, 1411, 1342, 1657, 621, 257, 5707, 2084, 29847, 5420, 1438, 28, 1298, 17, 5320, 27007, 34, 578, 3992, 930, 4475, 28, 9804, 930, 7839, 28, 13719, 1044, 338, 6663, 1148, 37487, 3801, 263, 930, 6371, 28, 5450, 1378, 16442, 672, 3168, 2870, 13, 77, 15462, 13, 9567, 14, 17566, 14, 22, 3388, 1433, 14, 14809, 4447, 12, 501, 12, 271, 12, 25167, 12, 21953, 263, 930, 15526, 12, 4475, 28, 21, 2901, 1160, 1954, 930, 732, 12485, 28, 29998, 11709, 3556, 5420, 29, 11907, 198, 7061, 6, 2348, 3077, 78, 7061, 6, 357, 27007, 4061, 12832, 12, 268, 91, 21241, 91, 75, 91, 45990, 91, 65, 91, 72, 135, 238, 91, 67, 91, 78, 134, 232, 11709, 22935, 411, 23506, 91, 282, 91, 33, 6500, 91, 67, 1219, 11709, 26, 22935, 2963, 29126, 91, 5031, 91, 282, 3077, 78, 91, 1929, 270, 9449, 11709, 8, 318, 262, 13390, 286, 16410, 19155, 2971, 11907, 326, 318, 16410, 28813, 1904, 14580, 91, 26069, 1904, 306, 12548, 11907, 416, 257, 1767, 13, 632, 318, 8630, 319, 257, 5046, 422, 657, 357, 10215, 5546, 278, 284, 257, 16410, 13424, 1767, 11907, 326, 42909, 477, 4519, 11881, 8, 284, 352, 357, 10215, 5546, 278, 284, 257, 1767, 326, 12497, 477, 4519, 11881, 737, 10148, 14214, 2550, 435, 3077, 78, 7061, 318, 5447, 355, 262, 8064, 286, 16410, 15546, 15023, 357, 6335, 72, 15748, 14726, 6335, 15023, 11907, 10148, 41, 7061, 27, 7266, 29, 68, 3556, 7266, 29, 284, 262, 16410, 343, 6335, 3610, 11907, 10148, 36, 7061, 27, 7266, 29, 68, 3556, 7266, 29, 357, 69, 22564, 583, 4326, 1989, 8, 2722, 416, 257, 4417, 29847, 5420, 29, 27007, 66, 578, 3992, 91, 6371, 28, 4023, 1378, 12384, 13, 66, 325, 13, 1219, 952, 12, 5219, 13, 15532, 14, 93, 8000, 13, 16, 14, 37724, 14, 46519, 14, 43, 478, 942, 14, 3070, 62, 49, 9189, 15748, 13, 12315, 930, 17474, 12, 6371, 28, 5450, 1378, 38933, 17474, 13, 2398, 14, 17474, 14, 1238, 1828, 3064, 24, 14, 4023, 1378, 12384, 13, 66, 325, 13, 1219, 952, 12, 5219, 13, 15532, 14, 93, 8000, 13, 16, 14, 37724, 14, 46519, 14, 43, 478, 942, 14, 3070, 62, 49, 9189, 15748, 13, 12315, 930, 17474, 12, 4475, 28, 1238, 1828, 12, 940, 12, 2931, 930, 6371, 12, 13376, 28, 12583, 930, 7839, 28, 24553, 3263, 874, 286, 28703, 1586, 532, 5325, 72, 15748, 1220, 5919, 15748, 91, 9800, 16, 28, 2725, 3258, 91, 9800, 17, 28, 39, 12875, 46703, 91, 732, 12485, 28, 13908, 13, 66, 325, 13, 1219, 952, 12, 5219, 13, 15532, 91, 15526, 12, 4475, 28, 17, 2805, 33160, 11709, 3556, 5420, 29, 383, 9823, 12548, 318, 407, 691, 5295, 416, 6608, 286, 262, 4417, 2346, 11, 475, 635, 416, 262, 37410, 290, 32558, 6082, 286, 6591, 11881, 8978, 262, 3668, 338, 4417, 29847, 5420, 29, 27007, 66, 578, 45352, 930, 6371, 28, 4023, 1378, 66, 16682, 13, 30412, 13, 10494, 354, 13, 15532, 14, 34, 39975, 14, 21, 15187, 14, 1387, 14, 14126, 24, 14, 4834, 948, 62, 2953, 16785, 14, 8134, 801, 590, 62, 2348, 3077, 78, 62, 14214, 2550, 13, 12315, 930, 17474, 12, 6371, 28, 5450, 1378, 38933, 17474, 13, 2398, 14, 17474, 14, 1238, 1828, 3064, 24, 14, 4023, 1378, 66, 16682, 13, 30412, 13, 10494, 354, 13, 15532, 14, 34, 39975, 14, 21, 15187, 14, 1387, 14, 14126, 24, 14, 4834, 948, 62, 2953, 16785, 14, 8134, 801, 590, 62, 2348, 3077, 78, 62, 14214, 2550, 13, 12315, 930, 17474, 12, 4475, 28, 1238, 1828, 12, 940, 12, 2931, 930, 6371, 12, 13376, 28, 12583, 930, 7839, 28, 8134, 801, 590, 290, 435, 3077, 78, 11, 4417, 930, 1387, 565, 404, 5507, 28, 4834, 25497, 286, 262, 33276, 1456, 930, 35352, 28, 41, 13, 371, 13, 6479, 1122, 930, 35352, 17, 28, 41, 13, 317, 13, 20920, 930, 12957, 28, 7222, 461, 1636, 930, 11085, 28, 41, 13, 317, 13, 930, 12984, 8191, 28, 12832, 49113, 4332, 930, 1941, 28, 16088, 91, 31126, 28, 1129, 1415, 1906, 1129, 1954, 11709, 3556, 5420, 29, 2312, 5087, 7565, 351, 20938, 11742, 11, 22987, 4067, 11, 290, 640, 357, 3826, 16410, 9150, 286, 262, 3825, 11907, 737, 198, 198, 3633, 47424, 12, 4411, 8802, 37910, 16410, 35051, 590, 11907, 5766, 318, 10488, 329, 257, 2060, 9848, 286, 18349, 357, 72, 13, 68, 1539, 329, 257, 1813, 2292, 286, 262, 3825, 828, 435, 3077, 78, 318, 262, 47424, 11812, 286, 4079, 590, 625, 477, 6591, 18333, 287, 257, 1813, 2278, 13, 383, 21964, 6323, 743, 2837, 422, 4201, 357, 292, 6492, 422, 28462, 13871, 8, 284, 4445, 11, 9651, 11, 393, 5079, 25694, 13, 198, 198, 28042, 1813, 329, 257, 2176, 28400, 357, 4443, 1373, 435, 3077, 78, 828, 435, 3077, 78, 10229, 284, 262, 2104, 10958, 286, 6591, 11881, 29847, 5420, 29, 27007, 66, 578, 3989, 930, 12957, 16, 28, 39, 437, 882, 12, 50, 695, 364, 930, 11085, 16, 28, 32, 13, 930, 12957, 17, 28, 37349, 930, 11085, 17, 28, 44, 13, 376, 13, 91, 1941, 28, 29279, 930, 22708, 28, 2348, 3077, 78, 13050, 286, 262, 3668, 338, 4417, 329, 4258, 2267, 930, 73, 301, 273, 28, 2718, 27277, 930, 24891, 28, 18673, 418, 49256, 46192, 286, 262, 8111, 7023, 286, 3576, 317, 930, 29048, 28, 26895, 930, 21949, 28, 8628, 23, 930, 7839, 28, 464, 12481, 286, 262, 10692, 290, 262, 6379, 20321, 422, 311, 7528, 2737, 930, 31126, 28, 26279, 1906, 27696, 930, 65, 571, 8189, 28, 29279, 49, 4303, 5603, 13, 26895, 492, 26279, 39, 930, 34023, 28, 940, 13, 940, 4089, 14, 81, 38031, 13, 29279, 13, 405, 3682, 91, 82, 17, 66, 312, 28, 1065, 22567, 1821, 2414, 34949, 3556, 5420, 29, 14444, 284, 15558, 17778, 11, 340, 318, 1690, 1813, 329, 262, 10958, 287, 543, 749, 6591, 2568, 12229, 262, 4417, 357, 23395, 657, 13, 18, 290, 513, 18919, 76, 737, 770, 10958, 3407, 16410, 23504, 10958, 91, 23504, 1657, 11907, 357, 15, 13, 19, 1906, 15, 13, 22, 18919, 76, 828, 543, 6688, 1521, 16649, 351, 257, 1877, 435, 3077, 78, 1656, 3223, 357, 68, 13, 70, 1539, 7150, 17565, 749, 11881, 828, 9472, 16649, 351, 257, 1029, 435, 3077, 78, 1656, 6016, 357, 68, 13, 70, 1539, 6729, 12497, 749, 11881, 737, 198, 198, 30109, 23709, 1906, 282, 3077, 78, 7538, 11907, 318, 257, 16410, 24561, 7538, 11907, 4258, 1429, 810, 257, 1487, 287, 262, 1989, 286, 16410, 501, 11022, 60, 4357, 16410, 4743, 330, 3183, 60, 4357, 290, 16410, 8583, 4771, 11907, 40866, 262, 435, 3077, 78, 290, 4417, 5951, 286, 257, 5440, 13, 16410, 23709, 11907, 318, 845, 28962, 11, 4361, 340, 12497, 1290, 517, 6591, 2568, 736, 284, 2272, 621, 262, 584, 3858, 286, 1956, 1989, 393, 1280, 1660, 13, 6663, 1906, 282, 3077, 78, 7538, 5341, 281, 1593, 2597, 287, 3298, 16410, 37649, 1487, 357, 24622, 3721, 14726, 42570, 1487, 60, 4083, 27, 5420, 29, 27007, 34, 578, 3989, 930, 12957, 28, 33, 463, 88, 7204, 930, 11085, 28, 44, 13, 314, 13, 930, 4475, 28, 38391, 12, 486, 12, 486, 930, 7839, 28, 464, 1245, 286, 6591, 11881, 13991, 319, 262, 4258, 286, 262, 3668, 930, 24891, 28, 24446, 385, 930, 29048, 28, 2481, 930, 21949, 28, 20, 930, 31126, 28, 21, 1157, 1906, 21, 1129, 930, 65, 571, 8189, 28, 38391, 24446, 986, 2481, 492, 21, 1157, 33, 930, 34023, 28, 940, 13, 23601, 17, 14, 33331, 22064, 13, 85, 2481, 72, 20, 13, 8784, 2931, 930, 747, 77, 28, 405, 1821, 12, 2078, 2075, 91, 34023, 12, 15526, 28, 5787, 34949, 3556, 5420, 29, 978, 3077, 78, 318, 281, 1593, 3721, 287, 16410, 42570, 3783, 60, 4083]]\n"
     ]
    }
   ],
   "source": [
    "sequences: list[list[int]] = []\n",
    "id_to_token: dict[int, str] = {}\n",
    "\n",
    "\n",
    "for content in [PAGES[i][\"wiki_intro\"] for i in range(2)]:\n",
    "# for content in [\"Hey hey hey! How's it going?\"]:\n",
    "    batch_encoding = TOKENIZER(content, return_tensors=\"pt\")\n",
    "    tokens = TOKENIZER.tokenize(content)\n",
    "\n",
    "    input_ids: list[int] = cast(torch.Tensor, batch_encoding[\"input_ids\"]).flatten().tolist()\n",
    "\n",
    "    for input_id, token in zip(input_ids, tokens):\n",
    "        id_to_token[int(input_id)] = token\n",
    "\n",
    "    sequences.append(input_ids)\n",
    "\n",
    "print(\"After converting our words in the corpus into vector of integers:\")\n",
    "print(sequences)"
   ]
  },
  {
   "cell_type": "code",
   "execution_count": 8,
   "metadata": {},
   "outputs": [
    {
     "name": "stdout",
     "output_type": "stream",
     "text": [
      "Epoch 1/100, Loss: 10.9096\n",
      "Epoch 2/100, Loss: 10.3348\n",
      "Epoch 3/100, Loss: 9.6712\n",
      "Epoch 4/100, Loss: 8.8484\n",
      "Epoch 5/100, Loss: 7.8735\n",
      "Epoch 6/100, Loss: 6.8541\n",
      "Epoch 7/100, Loss: 5.9787\n",
      "Epoch 8/100, Loss: 5.3297\n",
      "Epoch 9/100, Loss: 4.8540\n",
      "Epoch 10/100, Loss: 4.5134\n",
      "Epoch 11/100, Loss: 4.2859\n",
      "Epoch 12/100, Loss: 4.1170\n",
      "Epoch 13/100, Loss: 3.9536\n",
      "Epoch 14/100, Loss: 3.7598\n",
      "Epoch 15/100, Loss: 3.5593\n",
      "Epoch 16/100, Loss: 3.3692\n",
      "Epoch 17/100, Loss: 3.1931\n",
      "Epoch 18/100, Loss: 3.0351\n",
      "Epoch 19/100, Loss: 2.8920\n",
      "Epoch 20/100, Loss: 2.7528\n",
      "Epoch 21/100, Loss: 2.6096\n",
      "Epoch 22/100, Loss: 2.4657\n",
      "Epoch 23/100, Loss: 2.3291\n",
      "Epoch 24/100, Loss: 2.2061\n",
      "Epoch 25/100, Loss: 2.0962\n",
      "Epoch 26/100, Loss: 1.9904\n",
      "Epoch 27/100, Loss: 1.8816\n",
      "Epoch 28/100, Loss: 1.7745\n",
      "Epoch 29/100, Loss: 1.6769\n",
      "Epoch 30/100, Loss: 1.5896\n",
      "Epoch 31/100, Loss: 1.5073\n",
      "Epoch 32/100, Loss: 1.4256\n",
      "Epoch 33/100, Loss: 1.3442\n",
      "Epoch 34/100, Loss: 1.2661\n",
      "Epoch 35/100, Loss: 1.1939\n",
      "Epoch 36/100, Loss: 1.1282\n",
      "Epoch 37/100, Loss: 1.0669\n",
      "Epoch 38/100, Loss: 1.0074\n",
      "Epoch 39/100, Loss: 0.9489\n",
      "Epoch 40/100, Loss: 0.8927\n",
      "Epoch 41/100, Loss: 0.8407\n",
      "Epoch 42/100, Loss: 0.7929\n",
      "Epoch 43/100, Loss: 0.7480\n",
      "Epoch 44/100, Loss: 0.7051\n",
      "Epoch 45/100, Loss: 0.6641\n",
      "Epoch 46/100, Loss: 0.6253\n",
      "Epoch 47/100, Loss: 0.5889\n",
      "Epoch 48/100, Loss: 0.5547\n",
      "Epoch 49/100, Loss: 0.5224\n",
      "Epoch 50/100, Loss: 0.4921\n",
      "Epoch 51/100, Loss: 0.4636\n",
      "Epoch 52/100, Loss: 0.4370\n",
      "Epoch 53/100, Loss: 0.4120\n",
      "Epoch 54/100, Loss: 0.3883\n",
      "Epoch 55/100, Loss: 0.3660\n",
      "Epoch 56/100, Loss: 0.3451\n",
      "Epoch 57/100, Loss: 0.3256\n",
      "Epoch 58/100, Loss: 0.3074\n",
      "Epoch 59/100, Loss: 0.2902\n",
      "Epoch 60/100, Loss: 0.2742\n",
      "Epoch 61/100, Loss: 0.2592\n",
      "Epoch 62/100, Loss: 0.2452\n",
      "Epoch 63/100, Loss: 0.2321\n",
      "Epoch 64/100, Loss: 0.2199\n",
      "Epoch 65/100, Loss: 0.2084\n",
      "Epoch 66/100, Loss: 0.1977\n",
      "Epoch 67/100, Loss: 0.1876\n",
      "Epoch 68/100, Loss: 0.1782\n",
      "Epoch 69/100, Loss: 0.1693\n",
      "Epoch 70/100, Loss: 0.1610\n",
      "Epoch 71/100, Loss: 0.1532\n",
      "Epoch 72/100, Loss: 0.1459\n",
      "Epoch 73/100, Loss: 0.1390\n",
      "Epoch 74/100, Loss: 0.1326\n",
      "Epoch 75/100, Loss: 0.1266\n",
      "Epoch 76/100, Loss: 0.1210\n",
      "Epoch 77/100, Loss: 0.1157\n",
      "Epoch 78/100, Loss: 0.1107\n",
      "Epoch 79/100, Loss: 0.1061\n",
      "Epoch 80/100, Loss: 0.1017\n",
      "Epoch 81/100, Loss: 0.0976\n",
      "Epoch 82/100, Loss: 0.0938\n",
      "Epoch 83/100, Loss: 0.0902\n",
      "Epoch 84/100, Loss: 0.0869\n",
      "Epoch 85/100, Loss: 0.0837\n",
      "Epoch 86/100, Loss: 0.0808\n",
      "Epoch 87/100, Loss: 0.0780\n",
      "Epoch 88/100, Loss: 0.0754\n",
      "Epoch 89/100, Loss: 0.0730\n",
      "Epoch 90/100, Loss: 0.0707\n",
      "Epoch 91/100, Loss: 0.0685\n",
      "Epoch 92/100, Loss: 0.0665\n",
      "Epoch 93/100, Loss: 0.0646\n",
      "Epoch 94/100, Loss: 0.0628\n",
      "Epoch 95/100, Loss: 0.0611\n",
      "Epoch 96/100, Loss: 0.0595\n",
      "Epoch 97/100, Loss: 0.0579\n",
      "Epoch 98/100, Loss: 0.0565\n",
      "Epoch 99/100, Loss: 0.0551\n",
      "Epoch 100/100, Loss: 0.0538\n"
     ]
    }
   ],
   "source": [
    "# Define parameters\n",
    "vocab_size = len(TOKENIZER)\n",
    "embedding_size = 10\n",
    "window_size = 2\n",
    "\n",
    "# Generate context-target pairs\n",
    "contexts = []\n",
    "targets = []\n",
    "for seq in sequences:\n",
    "    # Skip sentences not long enough for the window\n",
    "    if len(seq) < 2 * window_size + 1:\n",
    "        continue\n",
    "    for i in range(window_size, len(seq) - window_size):\n",
    "        context = seq[i - window_size:i] + seq[i + 1:i + window_size + 1]\n",
    "        target = seq[i]\n",
    "        contexts.append(context)\n",
    "        targets.append(target)\n",
    "\n",
    "# Convert context and target lists to tensors\n",
    "X = torch.tensor(contexts, dtype=torch.long)\n",
    "y = torch.tensor(targets, dtype=torch.long)\n",
    "\n",
    "# Define the CBOW model in PyTorch\n",
    "class CBOW(nn.Module):\n",
    "    def __init__(self, vocab_size, embedding_size, context_size):\n",
    "        super(CBOW, self).__init__()\n",
    "        self.embeddings = nn.Embedding(vocab_size, embedding_size)\n",
    "        self.linear = nn.Linear(embedding_size, vocab_size)\n",
    "\n",
    "    def forward(self, x):\n",
    "        # x has shape (batch_size, context_size)\n",
    "        embeds = self.embeddings(x)   # (batch, context_size, embedding_size)\n",
    "        # Average the embeddings from context words\n",
    "        avg_embeds = torch.mean(embeds, dim=1)\n",
    "        logits = self.linear(avg_embeds)\n",
    "        return logits\n",
    "\n",
    "context_size = 2 * window_size\n",
    "model = CBOW(vocab_size, embedding_size, context_size)\n",
    "\n",
    "# Define loss and optimizer\n",
    "criterion = nn.CrossEntropyLoss()\n",
    "optimizer = optim.Adam(model.parameters(), lr=0.1)\n",
    "\n",
    "# Training loop\n",
    "epochs = 100\n",
    "for epoch in range(epochs):\n",
    "    model.train()\n",
    "    optimizer.zero_grad()\n",
    "    outputs = model(X)  # (batch_size, vocab_size)\n",
    "    loss = criterion(outputs, y)\n",
    "    loss.backward()\n",
    "    optimizer.step()\n",
    "    # Optionally print loss occasionally\n",
    "    # if (epoch + 1) % 20 == 0:\n",
    "    print(f\"Epoch {epoch+1}/{epochs}, Loss: {loss.item():.4f}\")\n",
    "\n",
    "# Extract the embeddings\n",
    "embeddings = model.embeddings.weight.detach().numpy()"
   ]
  },
  {
   "cell_type": "code",
   "execution_count": 24,
   "metadata": {},
   "outputs": [],
   "source": [
    "%matplotlib inline"
   ]
  },
  {
   "cell_type": "code",
   "execution_count": 25,
   "metadata": {},
   "outputs": [
    {
     "data": {
      "image/png": "[encoded data removed]",
      "text/plain": [
       "<Figure size 500x500 with 1 Axes>"
      ]
     },
     "metadata": {},
     "output_type": "display_data"
    }
   ],
   "source": [
    "# Perform PCA to reduce the dimensionality of the embeddings\n",
    "pca = PCA(n_components=3)\n",
    "reduced_embeddings = pca.fit_transform(embeddings)\n",
    "\n",
    "# Compute min and max values for normalization\n",
    "x_coords = reduced_embeddings[:, 0]\n",
    "y_coords = reduced_embeddings[:, 1]\n",
    "z_coords = reduced_embeddings[:, 2]\n",
    "x_min, x_max = np.min(x_coords), np.max(x_coords)\n",
    "y_min, y_max = np.min(y_coords), np.max(y_coords)\n",
    "z_min, z_max = np.min(z_coords), np.max(z_coords)\n",
    "\n",
    "# Visualize the embeddings (ignore index 0 as it is not assigned to a word)\n",
    "fig = plt.figure(figsize=(5, 5))\n",
    "ax = fig.add_subplot(projection='3d')\n",
    "\n",
    "for input_id, token in id_to_token.items():\n",
    "    x_coord, y_coord, z_coord = reduced_embeddings[input_id]\n",
    "    # Normalize x and y coordinates to the range [0, 1]\n",
    "    norm_x = (x_coord - x_min) / (x_max - x_min) if (x_max - x_min) != 0 else 0.5\n",
    "    norm_y = (y_coord - y_min) / (y_max - y_min) if (y_max - y_min) != 0 else 0.5\n",
    "    norm_z = (z_coord - z_min) / (z_max - z_min) if (z_max - z_min) != 0 else 0.5\n",
    "    # Use normalized x and y to determine the color (red and green components)\n",
    "    color = (norm_x, norm_y, norm_z)\n",
    "\n",
    "    ax.scatter(x_coord, y_coord, z_coord, c=[color])\n",
    "    ax.text(x_coord, y_coord, z_coord, token, color=color)\n",
    "\n",
    "ax.set_title(\"Word Embeddings Visualized\")\n",
    "ax.set_xlabel(\"PCA Dimension 1\")\n",
    "ax.set_ylabel(\"PCA Dimension 2\")\n",
    "ax.set_zlabel(\"PCA Dimension 3\")\n",
    "plt.show()"
   ]
  },
  {
   "cell_type": "code",
   "execution_count": 23,
   "metadata": {},
   "outputs": [
    {
     "data": {
      "application/vnd.plotly.v1+json": {
       "config": {
        "plotlyServerURL": "https://plot.ly"
       },
       "data": [
        {
         "hovertemplate": "x=%{x}<br>y=%{y}<br>z=%{z}<br>token=%{text}<extra></extra>",
         "legendgroup": "",
         "marker": {
          "color": "#636efa",
          "symbol": "circle"
         },
         "mode": "markers+text",
         "name": "",
         "scene": "scene",
         "showlegend": false,
         "text": [
          "{{",
          "Short",
          "Ġdescription",
          "|",
          "Political",
          "Ġphilosophy",
          "Ġand",
          "Ġmovement",
          "}}",
          "Ċ",
          "Other",
          "Ġuses",
          "An",
          "archy",
          "arch",
          "ism",
          "Ġ(",
          "dis",
          "amb",
          "ig",
          "uation",
          ")|",
          "ist",
          ")",
          "Good",
          "Ġarticle",
          "P",
          "p",
          "-",
          "se",
          "mi",
          "ind",
          "ef",
          "Use",
          "ĠBritish",
          "ĠEnglish",
          "date",
          "=",
          "August",
          "Ġ2021",
          "Ġd",
          "my",
          "Ġdates",
          "October",
          "Ġ2024",
          "Ġshortened",
          "Ġfoot",
          "notes",
          "May",
          "Ġ20",
          "23",
          "Ġsidebar",
          "''",
          "'",
          "Ġis",
          "Ġa",
          "Ġ[[",
          "political",
          "]]",
          "move",
          "ment",
          "Ġthat",
          "Ġseeks",
          "Ġto",
          "Ġabolish",
          "Ġall",
          "Ġinstitutions",
          "Ġperpetuate",
          "author",
          "ity",
          "]",
          "],",
          "Ġcoercion",
          ",",
          "Ġor",
          "Social",
          "Ġhierarchy",
          "h",
          "ier",
          "Ġprimarily",
          "Ġtargeting",
          "Ġthe",
          "state",
          "pol",
          "capital",
          "].",
          "<",
          "ref",
          ">",
          "C",
          "itation",
          "Ġ|",
          "last",
          "F",
          "ial",
          "a",
          "first",
          "Andrew",
          "title",
          "20",
          "21",
          "work",
          "The",
          "ĠStanford",
          "ĠEncyclopedia",
          "Ġof",
          "ĠPhilosophy",
          "editor",
          "Z",
          "alt",
          "Edward",
          "ĠN",
          ".",
          "url",
          "https",
          "://",
          "pl",
          "ato",
          "stan",
          "ford",
          "edu",
          "/",
          "ent",
          "ries",
          "an",
          "access",
          "25",
          "02",
          "edition",
          "Winter",
          "pub",
          "lisher",
          "Met",
          "aph",
          "ysics",
          "ĠResearch",
          "ĠLab",
          "ĠUniversity",
          "</",
          "ĠAnarch",
          "Ġadvocates",
          "Ġfor",
          "Ġreplacement",
          "Ġstate",
          "Ġwith",
          "State",
          "less",
          "Ġsociety",
          "Ġsocieties",
          "Ġvoluntary",
          "Free",
          "Ġassociation",
          "commun",
          "Ġanarchism",
          "free",
          "Ġassociations",
          "ĠA",
          "Ġhistorically",
          "Ġleft",
          "wing",
          "Ġusually",
          "Ġdescribed",
          "Ġas",
          "liber",
          "tarian",
          "Ġwing",
          "social",
          "Ġ([",
          "[",
          "Ġsocialism",
          ").",
          "Although",
          "Ġtraces",
          "Ġanarchist",
          "Ġideas",
          "Ġare",
          "Ġfound",
          "Ġthroughout",
          "Ġhistory",
          "Ġmodern",
          "Ġemerged",
          "Ġfrom",
          "Age",
          "ĠEnlightenment",
          "En",
          "light",
          "enment",
          "ĠDuring",
          "Ġlatter",
          "Ġhalf",
          "Ġ19",
          "th",
          "Ġfirst",
          "Ġdecades",
          "Ġcentury",
          "Ġflourished",
          "Ġin",
          "Ġmost",
          "Ġparts",
          "Ġworld",
          "Ġhad",
          "Ġsignificant",
          "Ġrole",
          "Labour",
          "workers",
          "Ġstruggles",
          "em",
          "anc",
          "ipation",
          "#",
          "School",
          "s",
          "Ġthought",
          "Various",
          "Ġschools",
          "Ġformed",
          "Ġduring",
          "Ġthis",
          "Ġperiod",
          "ists",
          "Ġhave",
          "Ġtaken",
          "Ġpart",
          "List",
          "Ġrevolutions",
          "Ġrebell",
          "ions",
          "sever",
          "al",
          "Ġnotably",
          "Paris",
          "ĠComm",
          "une",
          "Russian",
          "ĠCivil",
          "ĠWar",
          "Spanish",
          "Ġwhose",
          "Ġend",
          "Ġmarked",
          "class",
          "ical",
          "Ġera",
          "ĠIn",
          "Ġlast",
          "Ġinto",
          "Ġ21",
          "st",
          "Ġhas",
          "Ġbeen",
          "Ġresurg",
          "Ġonce",
          "Ġmore",
          "Ġgrowing",
          "Ġpopularity",
          "Ġinfluence",
          "Ġwithin",
          "anti",
          "capitalist",
          "war",
          "global",
          "isation",
          "Ġmovements",
          "Ġemploy",
          "d",
          "iversity",
          "Ġtactics",
          "iverse",
          "Ġapproaches",
          "Ġwhich",
          "Ġmay",
          "Ġbe",
          "Ġgenerally",
          "Ġdivided",
          "revolution",
          "ary",
          "ev",
          "olution",
          "Ġstrategies",
          "];",
          "Ġthere",
          "Ġoverlap",
          "Ġbetween",
          "Ġtwo",
          "ĠEvolution",
          "Ġmethods",
          "Ġtry",
          "Ġsimulate",
          "Ġwhat",
          "Ġan",
          "Ġmight",
          "Ġlike",
          "Ġbut",
          "Ġrevolutionary",
          "Viol",
          "Ġextremism",
          "violent",
          "Ġturn",
          "Ġaim",
          "Ġoverthrow",
          "Ġauthority",
          "ĠMany",
          "Ġfacets",
          "Civil",
          "ization",
          "human",
          "Ġcivilization",
          "Ġinfluenced",
          "Ġby",
          "Ġtheory",
          "Ġcritique",
          "rax",
          "is",
          "process",
          "T",
          "oc",
          "Ġlimit",
          "3",
          "Rat",
          "io",
          "Ġhow",
          "Ġmuch",
          "Ġlight",
          "Ġreflected",
          "Ġback",
          "Ġbody",
          "September",
          "Ġ2019",
          "[[",
          "File",
          ":",
          "Green",
          "land",
          "_",
          "Al",
          "bed",
          "o",
          "Change",
          "png",
          "umb",
          "Ġchange",
          "]:",
          "Ġmap",
          "Ġshows",
          "Ġdifference",
          "Ġamount",
          "Ġsunlight",
          "Ġsummer",
          "Ġ2011",
          "Ġversus",
          "Ġaverage",
          "Ġpercent",
          "Ġit",
          "Ġ2000",
          "Ġ2006",
          "ĠSome",
          "Ġareas",
          "Ġreflect",
          "Ġclose",
          "Ġless",
          "Ġthan",
          "Ġdecade",
          "Ġago",
          ".<",
          "Ġname",
          "\":",
          "2",
          "\">",
          "ite",
          "Ġweb",
          "2011",
          "'s",
          "ĠIce",
          "ĠIs",
          "ĠGrowing",
          "ĠDark",
          "er",
          "earth",
          "ob",
          "serv",
          "atory",
          "n",
          "asa",
          "gov",
          "images",
          "7",
          "69",
          "16",
          "green",
          "lands",
          "ice",
          "growing",
          "dark",
          "6",
          "ĠJuly",
          "we",
          "bsite",
          "NASA",
          "IP",
          "Ac",
          "en",
          "Ã¦",
          "l",
          "ËĪ",
          "b",
          "i",
          "Ë",
          "Ĳ",
          "Ê",
          "Ĭ",
          "Ġ{{",
          "res",
          "pell",
          "B",
          "EE",
          "oh",
          ";",
          "ety",
          "mology",
          "la",
          "wh",
          "it",
          "eness",
          "Ġfraction",
          "sun",
          "Diff",
          "use",
          "Ġreflection",
          "diff",
          "ly",
          "ĠIt",
          "Ġmeasured",
          "Ġon",
          "Ġscale",
          "Ġ0",
          "cor",
          "respond",
          "ing",
          "black",
          "Ġabsorbs",
          "Ġincident",
          "Ġradiation",
          "Ġ1",
          "Ġreflects",
          "Ġ''",
          "Sur",
          "face",
          "Ġal",
          "Ġdefined",
          "Ġratio",
          "Rad",
          "iosity",
          "rad",
          "ometry",
          "J",
          "sub",
          "e",
          "ir",
          "iance",
          "E",
          "f",
          "lux",
          "Ġper",
          "Ġunit",
          "Ġarea",
          "Ġreceived",
          "Ġsurface",
          "c",
          "http",
          "web",
          "~",
          "parent",
          "1",
          "classes",
          "782",
          "L",
          "ect",
          "ures",
          "03",
          "R",
          "adi",
          "pdf",
          "archive",
          "ghost",
          "org",
          "22",
          "100",
          "9",
          "10",
          "09",
          "status",
          "live",
          "Fund",
          "ament",
          "als",
          "ĠRend",
          "ering",
          "Ġ-",
          "ĠRad",
          "Ġ/",
          "ĠPhot",
          "Ph",
          "arr",
          "H",
          "umph",
          "reys",
          "Web",
          "ĠMarch",
          "Ġ2022",
          "ĠThe",
          "Ġproportion",
          "Ġnot",
          "Ġonly",
          "Ġdetermined",
          "Ġproperties",
          "Ġitself",
          "Ġalso",
          "Ġspectral",
          "Ġangular",
          "Ġdistribution",
          "Ġsolar",
          "Ġreaching",
          "ĠEarth",
          "Ġencyclopedia",
          "urry",
          "eas",
          "gate",
          "ch",
          "ourses",
          "140",
          "ency",
          "Chapter",
          "cy",
          "At",
          "mos",
          "Ref",
          "lect",
          "ance",
          "cl",
          "op",
          "edia",
          "cyclopedia",
          "ĠAtmosp",
          "here",
          "ĠR",
          "ĠHol",
          "ton",
          "ĠCurry",
          "Co",
          "ak",
          "ley",
          "ademic",
          "ĠPress",
          "year",
          "2003",
          "pages",
          "19",
          "14",
          "âĢĵ",
          "ĠThese",
          "Ġfactors",
          "Ġvary",
          "Ġatmospheric",
          "Ġcomposition",
          "Ġgeographic",
          "Ġlocation",
          "Ġtime",
          "see",
          "position",
          "ĠSun",
          "While",
          "Ġdirectional",
          "hem",
          "isp",
          "herical",
          "reflect",
          "Ġfactor",
          "Ġcalculated",
          "Ġsingle",
          "Ġangle",
          "Ġincidence",
          ".,",
          "Ġgiven",
          "Ġposition",
          "),",
          "Ġintegration",
          "Ġover",
          "Ġangles",
          "Ġtemporal",
          "Ġresolution",
          "Ġrange",
          "Ġseconds",
          "as",
          "Ġobtained",
          "Ġflux",
          "Ġmeasurements",
          "Ġdaily",
          "Ġmonthly",
          "Ġannual",
          "Ġaverages",
          "Unless",
          "Ġspecific",
          "Ġwavelength",
          "spect",
          "ral",
          "Ġrefers",
          "Ġentire",
          "Ġspectrum",
          "Ġjournal",
          "end",
          "erson",
          "S",
          "ell",
          "ers",
          "A",
          "Wilson",
          "M",
          "ĠF",
          "1983",
          "quote",
          "Ġobservations",
          "Ġclimate",
          "Ġresearch",
          "j",
          "or",
          "37",
          "357",
          "journal",
          "Phil",
          "os",
          "ophical",
          "ĠTransactions",
          "ĠRoyal",
          "ĠSociety",
          "ĠLondon",
          "volume",
          "309",
          "issue",
          "150",
          "8",
          "ĠStudy",
          "ĠOcean",
          "ĠLand",
          "ĠSurface",
          "ĠS",
          "atell",
          "ites",
          "285",
          "294",
          "ib",
          "code",
          "SP",
          "TA",
          "..",
          "doi",
          "98",
          "r",
          "sta",
          "00",
          "42",
          "id",
          "12",
          "209",
          "40",
          "64",
          "Ġ}}",
          "ĠDue",
          "Ġmeasurement",
          "Ġconstraints",
          "Ġoften",
          "Ġenergy",
          "Ġreaches",
          "between",
          "Ġ3",
          "ĠÎ¼",
          "m",
          "ĠThis",
          "Ġincludes",
          "visible",
          "0",
          "4",
          "Ġexplains",
          "Ġwhy",
          "Ġsurfaces",
          "Ġlow",
          "Ġappear",
          "Ġdark",
          "g",
          "Ġtrees",
          "Ġabsorb",
          "Ġwhereas",
          "Ġhigh",
          "Ġbright",
          "Ġsnow",
          "Ice",
          "Ġfeedback",
          "positive",
          "Ġprocess",
          "Ġwhere",
          "Ġcaps",
          "gl",
          "ac",
          "iers",
          "sea",
          "Ġice",
          "Ġalters",
          "Ġtemperature",
          "Ġplanet",
          "Ġvery",
          "Ġreflective",
          "Ġtherefore",
          "Ġfar",
          "Ġspace",
          "Ġother",
          "Ġtypes",
          "Ġland",
          "Ġopen",
          "Ġwater",
          "Ġplays",
          "Ġimportant",
          "Ġglobal",
          "Climate",
          "general",
          "Ġconcept",
          "climate",
          "ud",
          "y",
          "ko",
          "ĠI",
          "1969",
          "01",
          "Ġeffect",
          "Ġvariations",
          "Tell",
          "us",
          "5",
          "11",
          "...",
          "340",
          "tell",
          "usa",
          "v",
          "101",
          "iss",
          "28",
          "26",
          "ĠAl",
          "Ġscience"
         ],
         "textposition": "top center",
         "type": "scatter3d",
         "x": {
          "bdata": "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",
          "dtype": "f4"
         },
         "y": {
          "bdata": "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",
          "dtype": "f4"
         },
         "z": {
          "bdata": "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",
          "dtype": "f4"
         }
        }
       ],
       "layout": {
        "legend": {
         "tracegroupgap": 0
        },
        "scene": {
         "domain": {
          "x": [
           0,
           1
          ],
          "y": [
           0,
           1
          ]
         },
         "xaxis": {
          "title": {
           "text": "x"
          }
         },
         "yaxis": {
          "title": {
           "text": "y"
          }
         },
         "zaxis": {
          "title": {
           "text": "z"
          }
         }
        },
        "template": {
         "data": {
          "bar": [
           {
            "error_x": {
             "color": "#2a3f5f"
            },
            "error_y": {
             "color": "#2a3f5f"
            },
            "marker": {
             "line": {
              "color": "#E5ECF6",
              "width": 0.5
             },
             "pattern": {
              "fillmode": "overlay",
              "size": 10,
              "solidity": 0.2
             }
            },
            "type": "bar"
           }
          ],
          "barpolar": [
           {
            "marker": {
             "line": {
              "color": "#E5ECF6",
              "width": 0.5
             },
             "pattern": {
              "fillmode": "overlay",
              "size": 10,
              "solidity": 0.2
             }
            },
            "type": "barpolar"
           }
          ],
          "carpet": [
           {
            "aaxis": {
             "endlinecolor": "#2a3f5f",
             "gridcolor": "white",
             "linecolor": "white",
             "minorgridcolor": "white",
             "startlinecolor": "#2a3f5f"
            },
            "baxis": {
             "endlinecolor": "#2a3f5f",
             "gridcolor": "white",
             "linecolor": "white",
             "minorgridcolor": "white",
             "startlinecolor": "#2a3f5f"
            },
            "type": "carpet"
           }
          ],
          "choropleth": [
           {
            "colorbar": {
             "outlinewidth": 0,
             "ticks": ""
            },
            "type": "choropleth"
           }
          ],
          "contour": [
           {
            "colorbar": {
             "outlinewidth": 0,
             "ticks": ""
            },
            "colorscale": [
             [
              0,
              "#0d0887"
             ],
             [
              0.1111111111111111,
              "#46039f"
             ],
             [
              0.2222222222222222,
              "#7201a8"
             ],
             [
              0.3333333333333333,
              "#9c179e"
             ],
             [
              0.4444444444444444,
              "#bd3786"
             ],
             [
              0.5555555555555556,
              "#d8576b"
             ],
             [
              0.6666666666666666,
              "#ed7953"
             ],
             [
              0.7777777777777778,
              "#fb9f3a"
             ],
             [
              0.8888888888888888,
              "#fdca26"
             ],
             [
              1,
              "#f0f921"
             ]
            ],
            "type": "contour"
           }
          ],
          "contourcarpet": [
           {
            "colorbar": {
             "outlinewidth": 0,
             "ticks": ""
            },
            "type": "contourcarpet"
           }
          ],
          "heatmap": [
           {
            "colorbar": {
             "outlinewidth": 0,
             "ticks": ""
            },
            "colorscale": [
             [
              0,
              "#0d0887"
             ],
             [
              0.1111111111111111,
              "#46039f"
             ],
             [
              0.2222222222222222,
              "#7201a8"
             ],
             [
              0.3333333333333333,
              "#9c179e"
             ],
             [
              0.4444444444444444,
              "#bd3786"
             ],
             [
              0.5555555555555556,
              "#d8576b"
             ],
             [
              0.6666666666666666,
              "#ed7953"
             ],
             [
              0.7777777777777778,
              "#fb9f3a"
             ],
             [
              0.8888888888888888,
              "#fdca26"
             ],
             [
              1,
              "#f0f921"
             ]
            ],
            "type": "heatmap"
           }
          ],
          "histogram": [
           {
            "marker": {
             "pattern": {
              "fillmode": "overlay",
              "size": 10,
              "solidity": 0.2
             }
            },
            "type": "histogram"
           }
          ],
          "histogram2d": [
           {
            "colorbar": {
             "outlinewidth": 0,
             "ticks": ""
            },
            "colorscale": [
             [
              0,
              "#0d0887"
             ],
             [
              0.1111111111111111,
              "#46039f"
             ],
             [
              0.2222222222222222,
              "#7201a8"
             ],
             [
              0.3333333333333333,
              "#9c179e"
             ],
             [
              0.4444444444444444,
              "#bd3786"
             ],
             [
              0.5555555555555556,
              "#d8576b"
             ],
             [
              0.6666666666666666,
              "#ed7953"
             ],
             [
              0.7777777777777778,
              "#fb9f3a"
             ],
             [
              0.8888888888888888,
              "#fdca26"
             ],
             [
              1,
              "#f0f921"
             ]
            ],
            "type": "histogram2d"
           }
          ],
          "histogram2dcontour": [
           {
            "colorbar": {
             "outlinewidth": 0,
             "ticks": ""
            },
            "colorscale": [
             [
              0,
              "#0d0887"
             ],
             [
              0.1111111111111111,
              "#46039f"
             ],
             [
              0.2222222222222222,
              "#7201a8"
             ],
             [
              0.3333333333333333,
              "#9c179e"
             ],
             [
              0.4444444444444444,
              "#bd3786"
             ],
             [
              0.5555555555555556,
              "#d8576b"
             ],
             [
              0.6666666666666666,
              "#ed7953"
             ],
             [
              0.7777777777777778,
              "#fb9f3a"
             ],
             [
              0.8888888888888888,
              "#fdca26"
             ],
             [
              1,
              "#f0f921"
             ]
            ],
            "type": "histogram2dcontour"
           }
          ],
          "mesh3d": [
           {
            "colorbar": {
             "outlinewidth": 0,
             "ticks": ""
            },
            "type": "mesh3d"
           }
          ],
          "parcoords": [
           {
            "line": {
             "colorbar": {
              "outlinewidth": 0,
              "ticks": ""
             }
            },
            "type": "parcoords"
           }
          ],
          "pie": [
           {
            "automargin": true,
            "type": "pie"
           }
          ],
          "scatter": [
           {
            "fillpattern": {
             "fillmode": "overlay",
             "size": 10,
             "solidity": 0.2
            },
            "type": "scatter"
           }
          ],
          "scatter3d": [
           {
            "line": {
             "colorbar": {
              "outlinewidth": 0,
              "ticks": ""
             }
            },
            "marker": {
             "colorbar": {
              "outlinewidth": 0,
              "ticks": ""
             }
            },
            "type": "scatter3d"
           }
          ],
          "scattercarpet": [
           {
            "marker": {
             "colorbar": {
              "outlinewidth": 0,
              "ticks": ""
             }
            },
            "type": "scattercarpet"
           }
          ],
          "scattergeo": [
           {
            "marker": {
             "colorbar": {
              "outlinewidth": 0,
              "ticks": ""
             }
            },
            "type": "scattergeo"
           }
          ],
          "scattergl": [
           {
            "marker": {
             "colorbar": {
              "outlinewidth": 0,
              "ticks": ""
             }
            },
            "type": "scattergl"
           }
          ],
          "scattermap": [
           {
            "marker": {
             "colorbar": {
              "outlinewidth": 0,
              "ticks": ""
             }
            },
            "type": "scattermap"
           }
          ],
          "scattermapbox": [
           {
            "marker": {
             "colorbar": {
              "outlinewidth": 0,
              "ticks": ""
             }
            },
            "type": "scattermapbox"
           }
          ],
          "scatterpolar": [
           {
            "marker": {
             "colorbar": {
              "outlinewidth": 0,
              "ticks": ""
             }
            },
            "type": "scatterpolar"
           }
          ],
          "scatterpolargl": [
           {
            "marker": {
             "colorbar": {
              "outlinewidth": 0,
              "ticks": ""
             }
            },
            "type": "scatterpolargl"
           }
          ],
          "scatterternary": [
           {
            "marker": {
             "colorbar": {
              "outlinewidth": 0,
              "ticks": ""
             }
            },
            "type": "scatterternary"
           }
          ],
          "surface": [
           {
            "colorbar": {
             "outlinewidth": 0,
             "ticks": ""
            },
            "colorscale": [
             [
              0,
              "#0d0887"
             ],
             [
              0.1111111111111111,
              "#46039f"
             ],
             [
              0.2222222222222222,
              "#7201a8"
             ],
             [
              0.3333333333333333,
              "#9c179e"
             ],
             [
              0.4444444444444444,
              "#bd3786"
             ],
             [
              0.5555555555555556,
              "#d8576b"
             ],
             [
              0.6666666666666666,
              "#ed7953"
             ],
             [
              0.7777777777777778,
              "#fb9f3a"
             ],
             [
              0.8888888888888888,
              "#fdca26"
             ],
             [
              1,
              "#f0f921"
             ]
            ],
            "type": "surface"
           }
          ],
          "table": [
           {
            "cells": {
             "fill": {
              "color": "#EBF0F8"
             },
             "line": {
              "color": "white"
             }
            },
            "header": {
             "fill": {
              "color": "#C8D4E3"
             },
             "line": {
              "color": "white"
             }
            },
            "type": "table"
           }
          ]
         },
         "layout": {
          "annotationdefaults": {
           "arrowcolor": "#2a3f5f",
           "arrowhead": 0,
           "arrowwidth": 1
          },
          "autotypenumbers": "strict",
          "coloraxis": {
           "colorbar": {
            "outlinewidth": 0,
            "ticks": ""
           }
          },
          "colorscale": {
           "diverging": [
            [
             0,
             "#8e0152"
            ],
            [
             0.1,
             "#c51b7d"
            ],
            [
             0.2,
             "#de77ae"
            ],
            [
             0.3,
             "#f1b6da"
            ],
            [
             0.4,
             "#fde0ef"
            ],
            [
             0.5,
             "#f7f7f7"
            ],
            [
             0.6,
             "#e6f5d0"
            ],
            [
             0.7,
             "#b8e186"
            ],
            [
             0.8,
             "#7fbc41"
            ],
            [
             0.9,
             "#4d9221"
            ],
            [
             1,
             "#276419"
            ]
           ],
           "sequential": [
            [
             0,
             "#0d0887"
            ],
            [
             0.1111111111111111,
             "#46039f"
            ],
            [
             0.2222222222222222,
             "#7201a8"
            ],
            [
             0.3333333333333333,
             "#9c179e"
            ],
            [
             0.4444444444444444,
             "#bd3786"
            ],
            [
             0.5555555555555556,
             "#d8576b"
            ],
            [
             0.6666666666666666,
             "#ed7953"
            ],
            [
             0.7777777777777778,
             "#fb9f3a"
            ],
            [
             0.8888888888888888,
             "#fdca26"
            ],
            [
             1,
             "#f0f921"
            ]
           ],
           "sequentialminus": [
            [
             0,
             "#0d0887"
            ],
            [
             0.1111111111111111,
             "#46039f"
            ],
            [
             0.2222222222222222,
             "#7201a8"
            ],
            [
             0.3333333333333333,
             "#9c179e"
            ],
            [
             0.4444444444444444,
             "#bd3786"
            ],
            [
             0.5555555555555556,
             "#d8576b"
            ],
            [
             0.6666666666666666,
             "#ed7953"
            ],
            [
             0.7777777777777778,
             "#fb9f3a"
            ],
            [
             0.8888888888888888,
             "#fdca26"
            ],
            [
             1,
             "#f0f921"
            ]
           ]
          },
          "colorway": [
           "#636efa",
           "#EF553B",
           "#00cc96",
           "#ab63fa",
           "#FFA15A",
           "#19d3f3",
           "#FF6692",
           "#B6E880",
           "#FF97FF",
           "#FECB52"
          ],
          "font": {
           "color": "#2a3f5f"
          },
          "geo": {
           "bgcolor": "white",
           "lakecolor": "white",
           "landcolor": "#E5ECF6",
           "showlakes": true,
           "showland": true,
           "subunitcolor": "white"
          },
          "hoverlabel": {
           "align": "left"
          },
          "hovermode": "closest",
          "mapbox": {
           "style": "light"
          },
          "paper_bgcolor": "white",
          "plot_bgcolor": "#E5ECF6",
          "polar": {
           "angularaxis": {
            "gridcolor": "white",
            "linecolor": "white",
            "ticks": ""
           },
           "bgcolor": "#E5ECF6",
           "radialaxis": {
            "gridcolor": "white",
            "linecolor": "white",
            "ticks": ""
           }
          },
          "scene": {
           "xaxis": {
            "backgroundcolor": "#E5ECF6",
            "gridcolor": "white",
            "gridwidth": 2,
            "linecolor": "white",
            "showbackground": true,
            "ticks": "",
            "zerolinecolor": "white"
           },
           "yaxis": {
            "backgroundcolor": "#E5ECF6",
            "gridcolor": "white",
            "gridwidth": 2,
            "linecolor": "white",
            "showbackground": true,
            "ticks": "",
            "zerolinecolor": "white"
           },
           "zaxis": {
            "backgroundcolor": "#E5ECF6",
            "gridcolor": "white",
            "gridwidth": 2,
            "linecolor": "white",
            "showbackground": true,
            "ticks": "",
            "zerolinecolor": "white"
           }
          },
          "shapedefaults": {
           "line": {
            "color": "#2a3f5f"
           }
          },
          "ternary": {
           "aaxis": {
            "gridcolor": "white",
            "linecolor": "white",
            "ticks": ""
           },
           "baxis": {
            "gridcolor": "white",
            "linecolor": "white",
            "ticks": ""
           },
           "bgcolor": "#E5ECF6",
           "caxis": {
            "gridcolor": "white",
            "linecolor": "white",
            "ticks": ""
           }
          },
          "title": {
           "x": 0.05
          },
          "xaxis": {
           "automargin": true,
           "gridcolor": "white",
           "linecolor": "white",
           "ticks": "",
           "title": {
            "standoff": 15
           },
           "zerolinecolor": "white",
           "zerolinewidth": 2
          },
          "yaxis": {
           "automargin": true,
           "gridcolor": "white",
           "linecolor": "white",
           "ticks": "",
           "title": {
            "standoff": 15
           },
           "zerolinecolor": "white",
           "zerolinewidth": 2
          }
         }
        },
        "title": {
         "text": "Word Embeddings Visualized"
        }
       }
      }
     },
     "metadata": {},
     "output_type": "display_data"
    }
   ],
   "source": [
    "import plotly.express as px\n",
    "import pandas as pd\n",
    "\n",
    "data = {\n",
    "    'x': [],\n",
    "    'y': [],\n",
    "    'z': [],\n",
    "    'token': [],\n",
    "}\n",
    "\n",
    "for input_id, token in id_to_token.items():\n",
    "    x_coord, y_coord, z_coord = reduced_embeddings[input_id]\n",
    "    data['x'].append(x_coord)\n",
    "    data['y'].append(y_coord)\n",
    "    data['z'].append(z_coord)\n",
    "    data['token'].append(token)\n",
    "\n",
    "df = pd.DataFrame(data)\n",
    "\n",
    "fig = px.scatter_3d(df, x='x', y='y', z='z', text='token', title=\"Word Embeddings Visualized\")\n",
    "fig.update_traces(textposition='top center')\n",
    "fig.show()"
   ]
  }
 ],
 "metadata": {
  "kernelspec": {
   "display_name": ".venv-word2vec",
   "language": "python",
   "name": "python3"
  },
  "language_info": {
   "codemirror_mode": {
    "name": "ipython",
    "version": 3
   },
   "file_extension": ".py",
   "mimetype": "text/x-python",
   "name": "python",
   "nbconvert_exporter": "python",
   "pygments_lexer": "ipython3",
   "version": "3.12.7"
  }
 },
 "nbformat": 4,
 "nbformat_minor": 2
}
